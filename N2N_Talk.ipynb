{
  "nbformat": 4,
  "nbformat_minor": 0,
  "metadata": {
    "colab": {
      "provenance": [],
      "gpuType": "T4"
    },
    "kernelspec": {
      "name": "python3",
      "display_name": "Python 3"
    },
    "language_info": {
      "name": "python"
    },
    "accelerator": "GPU"
  },
  "cells": [
    {
      "cell_type": "code",
      "source": [
        "!pip install --upgrade --quiet  yandexcloud\n",
        "!pip install gigachain\n",
        "!pip install -U langchain-community"
      ],
      "metadata": {
        "colab": {
          "base_uri": "https://localhost:8080/"
        },
        "id": "BwNba6Tw_N-2",
        "outputId": "b36d2fbe-7fa0-491c-f0a1-142a9f97ac8a"
      },
      "execution_count": 1,
      "outputs": [
        {
          "output_type": "stream",
          "name": "stdout",
          "text": [
            "\u001b[2K     \u001b[90m━━━━━━━━━━━━━━━━━━━━━━━━━━━━━━━━━━━━━━━━\u001b[0m \u001b[32m3.3/3.3 MB\u001b[0m \u001b[31m15.3 MB/s\u001b[0m eta \u001b[36m0:00:00\u001b[0m\n",
            "\u001b[2K     \u001b[90m━━━━━━━━━━━━━━━━━━━━━━━━━━━━━━━━━━━━━━━━\u001b[0m \u001b[32m309.2/309.2 kB\u001b[0m \u001b[31m12.7 MB/s\u001b[0m eta \u001b[36m0:00:00\u001b[0m\n",
            "\u001b[?25h\u001b[31mERROR: pip's dependency resolver does not currently take into account all the packages that are installed. This behaviour is the source of the following dependency conflicts.\n",
            "cudf-cu12 24.4.1 requires protobuf<5,>=3.20, but you have protobuf 5.27.1 which is incompatible.\n",
            "google-ai-generativelanguage 0.6.4 requires protobuf!=3.20.0,!=3.20.1,!=4.21.0,!=4.21.1,!=4.21.2,!=4.21.3,!=4.21.4,!=4.21.5,<5.0.0dev,>=3.19.5, but you have protobuf 5.27.1 which is incompatible.\n",
            "google-api-core 2.11.1 requires protobuf!=3.20.0,!=3.20.1,!=4.21.0,!=4.21.1,!=4.21.2,!=4.21.3,!=4.21.4,!=4.21.5,<5.0.0.dev0,>=3.19.5, but you have protobuf 5.27.1 which is incompatible.\n",
            "google-cloud-aiplatform 1.54.1 requires protobuf!=3.20.0,!=3.20.1,!=4.21.0,!=4.21.1,!=4.21.2,!=4.21.3,!=4.21.4,!=4.21.5,<5.0.0dev,>=3.19.5, but you have protobuf 5.27.1 which is incompatible.\n",
            "google-cloud-bigquery-connection 1.12.1 requires protobuf!=3.20.0,!=3.20.1,!=4.21.0,!=4.21.1,!=4.21.2,!=4.21.3,!=4.21.4,!=4.21.5,<5.0.0dev,>=3.19.5, but you have protobuf 5.27.1 which is incompatible.\n",
            "google-cloud-bigquery-storage 2.25.0 requires protobuf!=3.20.0,!=3.20.1,!=4.21.0,!=4.21.1,!=4.21.2,!=4.21.3,!=4.21.4,!=4.21.5,<5.0.0dev,>=3.19.5, but you have protobuf 5.27.1 which is incompatible.\n",
            "google-cloud-datastore 2.15.2 requires protobuf!=3.20.0,!=3.20.1,!=4.21.0,!=4.21.1,!=4.21.2,!=4.21.3,!=4.21.4,!=4.21.5,<5.0.0dev,>=3.19.5, but you have protobuf 5.27.1 which is incompatible.\n",
            "google-cloud-firestore 2.11.1 requires protobuf!=3.20.0,!=3.20.1,!=4.21.0,!=4.21.1,!=4.21.2,!=4.21.3,!=4.21.4,!=4.21.5,<5.0.0dev,>=3.19.5, but you have protobuf 5.27.1 which is incompatible.\n",
            "google-cloud-functions 1.13.3 requires protobuf!=3.20.0,!=3.20.1,!=4.21.0,!=4.21.1,!=4.21.2,!=4.21.3,!=4.21.4,!=4.21.5,<5.0.0dev,>=3.19.5, but you have protobuf 5.27.1 which is incompatible.\n",
            "google-cloud-iam 2.15.0 requires protobuf!=3.20.0,!=3.20.1,!=4.21.0,!=4.21.1,!=4.21.2,!=4.21.3,!=4.21.4,!=4.21.5,<5.0.0dev,>=3.19.5, but you have protobuf 5.27.1 which is incompatible.\n",
            "google-cloud-language 2.13.3 requires protobuf!=3.20.0,!=3.20.1,!=4.21.0,!=4.21.1,!=4.21.2,!=4.21.3,!=4.21.4,!=4.21.5,<5.0.0dev,>=3.19.5, but you have protobuf 5.27.1 which is incompatible.\n",
            "google-cloud-resource-manager 1.12.3 requires protobuf!=3.20.0,!=3.20.1,!=4.21.0,!=4.21.1,!=4.21.2,!=4.21.3,!=4.21.4,!=4.21.5,<5.0.0dev,>=3.19.5, but you have protobuf 5.27.1 which is incompatible.\n",
            "google-cloud-translate 3.11.3 requires protobuf!=3.20.0,!=3.20.1,!=4.21.0,!=4.21.1,!=4.21.2,!=4.21.3,!=4.21.4,!=4.21.5,<5.0.0dev,>=3.19.5, but you have protobuf 5.27.1 which is incompatible.\n",
            "grpc-google-iam-v1 0.13.0 requires protobuf!=3.20.0,!=3.20.1,!=4.21.1,!=4.21.2,!=4.21.3,!=4.21.4,!=4.21.5,<5.0.0dev,>=3.19.5, but you have protobuf 5.27.1 which is incompatible.\n",
            "proto-plus 1.23.0 requires protobuf<5.0.0dev,>=3.19.0, but you have protobuf 5.27.1 which is incompatible.\n",
            "tensorflow 2.15.0 requires protobuf!=4.21.0,!=4.21.1,!=4.21.2,!=4.21.3,!=4.21.4,!=4.21.5,<5.0.0dev,>=3.20.3, but you have protobuf 5.27.1 which is incompatible.\n",
            "tensorflow-metadata 1.15.0 requires protobuf<4.21,>=3.20.3; python_version < \"3.11\", but you have protobuf 5.27.1 which is incompatible.\u001b[0m\u001b[31m\n",
            "\u001b[0mCollecting gigachain\n",
            "  Downloading gigachain-0.2.0-py3-none-any.whl (995 kB)\n",
            "\u001b[2K     \u001b[90m━━━━━━━━━━━━━━━━━━━━━━━━━━━━━━━━━━━━━━━━\u001b[0m \u001b[32m995.3/995.3 kB\u001b[0m \u001b[31m20.1 MB/s\u001b[0m eta \u001b[36m0:00:00\u001b[0m\n",
            "\u001b[?25hRequirement already satisfied: PyYAML>=5.3 in /usr/local/lib/python3.10/dist-packages (from gigachain) (6.0.1)\n",
            "Requirement already satisfied: SQLAlchemy<3,>=1.4 in /usr/local/lib/python3.10/dist-packages (from gigachain) (2.0.30)\n",
            "Requirement already satisfied: aiohttp<4.0.0,>=3.8.3 in /usr/local/lib/python3.10/dist-packages (from gigachain) (3.9.5)\n",
            "Requirement already satisfied: async-timeout<5.0.0,>=4.0.0 in /usr/local/lib/python3.10/dist-packages (from gigachain) (4.0.3)\n",
            "Collecting dataclasses-json<0.7,>=0.5.7 (from gigachain)\n",
            "  Downloading dataclasses_json-0.6.7-py3-none-any.whl (28 kB)\n",
            "Collecting gigachain-core<0.3.0,>=0.2.0 (from gigachain)\n",
            "  Downloading gigachain_core-0.2.0.1-py3-none-any.whl (311 kB)\n",
            "\u001b[2K     \u001b[90m━━━━━━━━━━━━━━━━━━━━━━━━━━━━━━━━━━━━━━━━\u001b[0m \u001b[32m311.4/311.4 kB\u001b[0m \u001b[31m42.7 MB/s\u001b[0m eta \u001b[36m0:00:00\u001b[0m\n",
            "\u001b[?25hCollecting gigachain-text-splitters<0.3.0,>=0.2.0 (from gigachain)\n",
            "  Downloading gigachain_text_splitters-0.2.0-py3-none-any.whl (23 kB)\n",
            "Collecting gigachat<0.2.0,>=0.1.27 (from gigachain)\n",
            "  Downloading gigachat-0.1.29-py3-none-any.whl (57 kB)\n",
            "\u001b[2K     \u001b[90m━━━━━━━━━━━━━━━━━━━━━━━━━━━━━━━━━━━━━━━━\u001b[0m \u001b[32m57.9/57.9 kB\u001b[0m \u001b[31m9.7 MB/s\u001b[0m eta \u001b[36m0:00:00\u001b[0m\n",
            "\u001b[?25hCollecting langsmith<0.2.0,>=0.1.17 (from gigachain)\n",
            "  Downloading langsmith-0.1.77-py3-none-any.whl (125 kB)\n",
            "\u001b[2K     \u001b[90m━━━━━━━━━━━━━━━━━━━━━━━━━━━━━━━━━━━━━━━━\u001b[0m \u001b[32m125.2/125.2 kB\u001b[0m \u001b[31m18.3 MB/s\u001b[0m eta \u001b[36m0:00:00\u001b[0m\n",
            "\u001b[?25hRequirement already satisfied: numpy<2,>=1 in /usr/local/lib/python3.10/dist-packages (from gigachain) (1.25.2)\n",
            "Requirement already satisfied: pydantic<3,>=1 in /usr/local/lib/python3.10/dist-packages (from gigachain) (2.7.3)\n",
            "Requirement already satisfied: requests<3,>=2 in /usr/local/lib/python3.10/dist-packages (from gigachain) (2.31.0)\n",
            "Requirement already satisfied: tenacity<9.0.0,>=8.1.0 in /usr/local/lib/python3.10/dist-packages (from gigachain) (8.3.0)\n",
            "Requirement already satisfied: aiosignal>=1.1.2 in /usr/local/lib/python3.10/dist-packages (from aiohttp<4.0.0,>=3.8.3->gigachain) (1.3.1)\n",
            "Requirement already satisfied: attrs>=17.3.0 in /usr/local/lib/python3.10/dist-packages (from aiohttp<4.0.0,>=3.8.3->gigachain) (23.2.0)\n",
            "Requirement already satisfied: frozenlist>=1.1.1 in /usr/local/lib/python3.10/dist-packages (from aiohttp<4.0.0,>=3.8.3->gigachain) (1.4.1)\n",
            "Requirement already satisfied: multidict<7.0,>=4.5 in /usr/local/lib/python3.10/dist-packages (from aiohttp<4.0.0,>=3.8.3->gigachain) (6.0.5)\n",
            "Requirement already satisfied: yarl<2.0,>=1.0 in /usr/local/lib/python3.10/dist-packages (from aiohttp<4.0.0,>=3.8.3->gigachain) (1.9.4)\n",
            "Collecting marshmallow<4.0.0,>=3.18.0 (from dataclasses-json<0.7,>=0.5.7->gigachain)\n",
            "  Downloading marshmallow-3.21.3-py3-none-any.whl (49 kB)\n",
            "\u001b[2K     \u001b[90m━━━━━━━━━━━━━━━━━━━━━━━━━━━━━━━━━━━━━━━━\u001b[0m \u001b[32m49.2/49.2 kB\u001b[0m \u001b[31m8.2 MB/s\u001b[0m eta \u001b[36m0:00:00\u001b[0m\n",
            "\u001b[?25hCollecting typing-inspect<1,>=0.4.0 (from dataclasses-json<0.7,>=0.5.7->gigachain)\n",
            "  Downloading typing_inspect-0.9.0-py3-none-any.whl (8.8 kB)\n",
            "Collecting jsonpatch<2.0,>=1.33 (from gigachain-core<0.3.0,>=0.2.0->gigachain)\n",
            "  Downloading jsonpatch-1.33-py2.py3-none-any.whl (12 kB)\n",
            "Collecting packaging<24.0,>=23.2 (from gigachain-core<0.3.0,>=0.2.0->gigachain)\n",
            "  Downloading packaging-23.2-py3-none-any.whl (53 kB)\n",
            "\u001b[2K     \u001b[90m━━━━━━━━━━━━━━━━━━━━━━━━━━━━━━━━━━━━━━━━\u001b[0m \u001b[32m53.0/53.0 kB\u001b[0m \u001b[31m7.1 MB/s\u001b[0m eta \u001b[36m0:00:00\u001b[0m\n",
            "\u001b[?25hCollecting httpx<1 (from gigachat<0.2.0,>=0.1.27->gigachain)\n",
            "  Downloading httpx-0.27.0-py3-none-any.whl (75 kB)\n",
            "\u001b[2K     \u001b[90m━━━━━━━━━━━━━━━━━━━━━━━━━━━━━━━━━━━━━━━━\u001b[0m \u001b[32m75.6/75.6 kB\u001b[0m \u001b[31m10.6 MB/s\u001b[0m eta \u001b[36m0:00:00\u001b[0m\n",
            "\u001b[?25hCollecting orjson<4.0.0,>=3.9.14 (from langsmith<0.2.0,>=0.1.17->gigachain)\n",
            "  Downloading orjson-3.10.5-cp310-cp310-manylinux_2_17_x86_64.manylinux2014_x86_64.whl (144 kB)\n",
            "\u001b[2K     \u001b[90m━━━━━━━━━━━━━━━━━━━━━━━━━━━━━━━━━━━━━━━━\u001b[0m \u001b[32m145.0/145.0 kB\u001b[0m \u001b[31m19.5 MB/s\u001b[0m eta \u001b[36m0:00:00\u001b[0m\n",
            "\u001b[?25hRequirement already satisfied: annotated-types>=0.4.0 in /usr/local/lib/python3.10/dist-packages (from pydantic<3,>=1->gigachain) (0.7.0)\n",
            "Requirement already satisfied: pydantic-core==2.18.4 in /usr/local/lib/python3.10/dist-packages (from pydantic<3,>=1->gigachain) (2.18.4)\n",
            "Requirement already satisfied: typing-extensions>=4.6.1 in /usr/local/lib/python3.10/dist-packages (from pydantic<3,>=1->gigachain) (4.12.2)\n",
            "Requirement already satisfied: charset-normalizer<4,>=2 in /usr/local/lib/python3.10/dist-packages (from requests<3,>=2->gigachain) (3.3.2)\n",
            "Requirement already satisfied: idna<4,>=2.5 in /usr/local/lib/python3.10/dist-packages (from requests<3,>=2->gigachain) (3.7)\n",
            "Requirement already satisfied: urllib3<3,>=1.21.1 in /usr/local/lib/python3.10/dist-packages (from requests<3,>=2->gigachain) (2.0.7)\n",
            "Requirement already satisfied: certifi>=2017.4.17 in /usr/local/lib/python3.10/dist-packages (from requests<3,>=2->gigachain) (2024.6.2)\n",
            "Requirement already satisfied: greenlet!=0.4.17 in /usr/local/lib/python3.10/dist-packages (from SQLAlchemy<3,>=1.4->gigachain) (3.0.3)\n",
            "Requirement already satisfied: anyio in /usr/local/lib/python3.10/dist-packages (from httpx<1->gigachat<0.2.0,>=0.1.27->gigachain) (3.7.1)\n",
            "Collecting httpcore==1.* (from httpx<1->gigachat<0.2.0,>=0.1.27->gigachain)\n",
            "  Downloading httpcore-1.0.5-py3-none-any.whl (77 kB)\n",
            "\u001b[2K     \u001b[90m━━━━━━━━━━━━━━━━━━━━━━━━━━━━━━━━━━━━━━━━\u001b[0m \u001b[32m77.9/77.9 kB\u001b[0m \u001b[31m2.7 MB/s\u001b[0m eta \u001b[36m0:00:00\u001b[0m\n",
            "\u001b[?25hRequirement already satisfied: sniffio in /usr/local/lib/python3.10/dist-packages (from httpx<1->gigachat<0.2.0,>=0.1.27->gigachain) (1.3.1)\n",
            "Collecting h11<0.15,>=0.13 (from httpcore==1.*->httpx<1->gigachat<0.2.0,>=0.1.27->gigachain)\n",
            "  Downloading h11-0.14.0-py3-none-any.whl (58 kB)\n",
            "\u001b[2K     \u001b[90m━━━━━━━━━━━━━━━━━━━━━━━━━━━━━━━━━━━━━━━━\u001b[0m \u001b[32m58.3/58.3 kB\u001b[0m \u001b[31m10.7 MB/s\u001b[0m eta \u001b[36m0:00:00\u001b[0m\n",
            "\u001b[?25hCollecting jsonpointer>=1.9 (from jsonpatch<2.0,>=1.33->gigachain-core<0.3.0,>=0.2.0->gigachain)\n",
            "  Downloading jsonpointer-3.0.0-py2.py3-none-any.whl (7.6 kB)\n",
            "Collecting mypy-extensions>=0.3.0 (from typing-inspect<1,>=0.4.0->dataclasses-json<0.7,>=0.5.7->gigachain)\n",
            "  Downloading mypy_extensions-1.0.0-py3-none-any.whl (4.7 kB)\n",
            "Requirement already satisfied: exceptiongroup in /usr/local/lib/python3.10/dist-packages (from anyio->httpx<1->gigachat<0.2.0,>=0.1.27->gigachain) (1.2.1)\n",
            "Installing collected packages: packaging, orjson, mypy-extensions, jsonpointer, h11, typing-inspect, marshmallow, jsonpatch, httpcore, langsmith, httpx, dataclasses-json, gigachat, gigachain-core, gigachain-text-splitters, gigachain\n",
            "  Attempting uninstall: packaging\n",
            "    Found existing installation: packaging 24.1\n",
            "    Uninstalling packaging-24.1:\n",
            "      Successfully uninstalled packaging-24.1\n",
            "\u001b[31mERROR: pip's dependency resolver does not currently take into account all the packages that are installed. This behaviour is the source of the following dependency conflicts.\n",
            "cudf-cu12 24.4.1 requires protobuf<5,>=3.20, but you have protobuf 5.27.1 which is incompatible.\n",
            "google-cloud-aiplatform 1.54.1 requires protobuf!=3.20.0,!=3.20.1,!=4.21.0,!=4.21.1,!=4.21.2,!=4.21.3,!=4.21.4,!=4.21.5,<5.0.0dev,>=3.19.5, but you have protobuf 5.27.1 which is incompatible.\n",
            "tensorflow 2.15.0 requires protobuf!=4.21.0,!=4.21.1,!=4.21.2,!=4.21.3,!=4.21.4,!=4.21.5,<5.0.0dev,>=3.20.3, but you have protobuf 5.27.1 which is incompatible.\u001b[0m\u001b[31m\n",
            "\u001b[0mSuccessfully installed dataclasses-json-0.6.7 gigachain-0.2.0 gigachain-core-0.2.0.1 gigachain-text-splitters-0.2.0 gigachat-0.1.29 h11-0.14.0 httpcore-1.0.5 httpx-0.27.0 jsonpatch-1.33 jsonpointer-3.0.0 langsmith-0.1.77 marshmallow-3.21.3 mypy-extensions-1.0.0 orjson-3.10.5 packaging-23.2 typing-inspect-0.9.0\n",
            "Collecting langchain-community\n",
            "  Downloading langchain_community-0.2.5-py3-none-any.whl (2.2 MB)\n",
            "\u001b[2K     \u001b[90m━━━━━━━━━━━━━━━━━━━━━━━━━━━━━━━━━━━━━━━━\u001b[0m \u001b[32m2.2/2.2 MB\u001b[0m \u001b[31m37.9 MB/s\u001b[0m eta \u001b[36m0:00:00\u001b[0m\n",
            "\u001b[?25hRequirement already satisfied: PyYAML>=5.3 in /usr/local/lib/python3.10/dist-packages (from langchain-community) (6.0.1)\n",
            "Requirement already satisfied: SQLAlchemy<3,>=1.4 in /usr/local/lib/python3.10/dist-packages (from langchain-community) (2.0.30)\n",
            "Requirement already satisfied: aiohttp<4.0.0,>=3.8.3 in /usr/local/lib/python3.10/dist-packages (from langchain-community) (3.9.5)\n",
            "Requirement already satisfied: dataclasses-json<0.7,>=0.5.7 in /usr/local/lib/python3.10/dist-packages (from langchain-community) (0.6.7)\n",
            "Collecting langchain<0.3.0,>=0.2.5 (from langchain-community)\n",
            "  Downloading langchain-0.2.5-py3-none-any.whl (974 kB)\n",
            "\u001b[2K     \u001b[90m━━━━━━━━━━━━━━━━━━━━━━━━━━━━━━━━━━━━━━━━\u001b[0m \u001b[32m974.6/974.6 kB\u001b[0m \u001b[31m66.4 MB/s\u001b[0m eta \u001b[36m0:00:00\u001b[0m\n",
            "\u001b[?25hCollecting langchain-core<0.3.0,>=0.2.7 (from langchain-community)\n",
            "  Downloading langchain_core-0.2.7-py3-none-any.whl (315 kB)\n",
            "\u001b[2K     \u001b[90m━━━━━━━━━━━━━━━━━━━━━━━━━━━━━━━━━━━━━━━━\u001b[0m \u001b[32m315.6/315.6 kB\u001b[0m \u001b[31m41.4 MB/s\u001b[0m eta \u001b[36m0:00:00\u001b[0m\n",
            "\u001b[?25hRequirement already satisfied: langsmith<0.2.0,>=0.1.0 in /usr/local/lib/python3.10/dist-packages (from langchain-community) (0.1.77)\n",
            "Requirement already satisfied: numpy<2,>=1 in /usr/local/lib/python3.10/dist-packages (from langchain-community) (1.25.2)\n",
            "Requirement already satisfied: requests<3,>=2 in /usr/local/lib/python3.10/dist-packages (from langchain-community) (2.31.0)\n",
            "Requirement already satisfied: tenacity<9.0.0,>=8.1.0 in /usr/local/lib/python3.10/dist-packages (from langchain-community) (8.3.0)\n",
            "Requirement already satisfied: aiosignal>=1.1.2 in /usr/local/lib/python3.10/dist-packages (from aiohttp<4.0.0,>=3.8.3->langchain-community) (1.3.1)\n",
            "Requirement already satisfied: attrs>=17.3.0 in /usr/local/lib/python3.10/dist-packages (from aiohttp<4.0.0,>=3.8.3->langchain-community) (23.2.0)\n",
            "Requirement already satisfied: frozenlist>=1.1.1 in /usr/local/lib/python3.10/dist-packages (from aiohttp<4.0.0,>=3.8.3->langchain-community) (1.4.1)\n",
            "Requirement already satisfied: multidict<7.0,>=4.5 in /usr/local/lib/python3.10/dist-packages (from aiohttp<4.0.0,>=3.8.3->langchain-community) (6.0.5)\n",
            "Requirement already satisfied: yarl<2.0,>=1.0 in /usr/local/lib/python3.10/dist-packages (from aiohttp<4.0.0,>=3.8.3->langchain-community) (1.9.4)\n",
            "Requirement already satisfied: async-timeout<5.0,>=4.0 in /usr/local/lib/python3.10/dist-packages (from aiohttp<4.0.0,>=3.8.3->langchain-community) (4.0.3)\n",
            "Requirement already satisfied: marshmallow<4.0.0,>=3.18.0 in /usr/local/lib/python3.10/dist-packages (from dataclasses-json<0.7,>=0.5.7->langchain-community) (3.21.3)\n",
            "Requirement already satisfied: typing-inspect<1,>=0.4.0 in /usr/local/lib/python3.10/dist-packages (from dataclasses-json<0.7,>=0.5.7->langchain-community) (0.9.0)\n",
            "Collecting langchain-text-splitters<0.3.0,>=0.2.0 (from langchain<0.3.0,>=0.2.5->langchain-community)\n",
            "  Downloading langchain_text_splitters-0.2.1-py3-none-any.whl (23 kB)\n",
            "Requirement already satisfied: pydantic<3,>=1 in /usr/local/lib/python3.10/dist-packages (from langchain<0.3.0,>=0.2.5->langchain-community) (2.7.3)\n",
            "Requirement already satisfied: jsonpatch<2.0,>=1.33 in /usr/local/lib/python3.10/dist-packages (from langchain-core<0.3.0,>=0.2.7->langchain-community) (1.33)\n",
            "Requirement already satisfied: packaging<25,>=23.2 in /usr/local/lib/python3.10/dist-packages (from langchain-core<0.3.0,>=0.2.7->langchain-community) (23.2)\n",
            "Requirement already satisfied: orjson<4.0.0,>=3.9.14 in /usr/local/lib/python3.10/dist-packages (from langsmith<0.2.0,>=0.1.0->langchain-community) (3.10.5)\n",
            "Requirement already satisfied: charset-normalizer<4,>=2 in /usr/local/lib/python3.10/dist-packages (from requests<3,>=2->langchain-community) (3.3.2)\n",
            "Requirement already satisfied: idna<4,>=2.5 in /usr/local/lib/python3.10/dist-packages (from requests<3,>=2->langchain-community) (3.7)\n",
            "Requirement already satisfied: urllib3<3,>=1.21.1 in /usr/local/lib/python3.10/dist-packages (from requests<3,>=2->langchain-community) (2.0.7)\n",
            "Requirement already satisfied: certifi>=2017.4.17 in /usr/local/lib/python3.10/dist-packages (from requests<3,>=2->langchain-community) (2024.6.2)\n",
            "Requirement already satisfied: typing-extensions>=4.6.0 in /usr/local/lib/python3.10/dist-packages (from SQLAlchemy<3,>=1.4->langchain-community) (4.12.2)\n",
            "Requirement already satisfied: greenlet!=0.4.17 in /usr/local/lib/python3.10/dist-packages (from SQLAlchemy<3,>=1.4->langchain-community) (3.0.3)\n",
            "Requirement already satisfied: jsonpointer>=1.9 in /usr/local/lib/python3.10/dist-packages (from jsonpatch<2.0,>=1.33->langchain-core<0.3.0,>=0.2.7->langchain-community) (3.0.0)\n",
            "Requirement already satisfied: annotated-types>=0.4.0 in /usr/local/lib/python3.10/dist-packages (from pydantic<3,>=1->langchain<0.3.0,>=0.2.5->langchain-community) (0.7.0)\n",
            "Requirement already satisfied: pydantic-core==2.18.4 in /usr/local/lib/python3.10/dist-packages (from pydantic<3,>=1->langchain<0.3.0,>=0.2.5->langchain-community) (2.18.4)\n",
            "Requirement already satisfied: mypy-extensions>=0.3.0 in /usr/local/lib/python3.10/dist-packages (from typing-inspect<1,>=0.4.0->dataclasses-json<0.7,>=0.5.7->langchain-community) (1.0.0)\n",
            "Installing collected packages: langchain-core, langchain-text-splitters, langchain, langchain-community\n",
            "Successfully installed langchain-0.2.5 langchain-community-0.2.5 langchain-core-0.2.7 langchain-text-splitters-0.2.1\n"
          ]
        }
      ]
    },
    {
      "cell_type": "code",
      "source": [
        "import json\n",
        "import requests\n",
        "\n",
        "from langchain.schema import HumanMessage, SystemMessage\n",
        "from langchain.chat_models.gigachat import GigaChat\n",
        "from langchain_community.chat_models import ChatYandexGPT\n",
        "from langchain_core.messages import HumanMessage, SystemMessage\n",
        "\n",
        "from google.colab import userdata"
      ],
      "metadata": {
        "id": "6hOHnRc4_j1F"
      },
      "execution_count": 2,
      "outputs": []
    },
    {
      "cell_type": "markdown",
      "source": [
        "# Yandex from langchain"
      ],
      "metadata": {
        "id": "lvZTjtMFf_gj"
      }
    },
    {
      "cell_type": "code",
      "source": [
        "api_key = userdata.get('YAN_SEC')\n",
        "yandex_folder_id = userdata.get('YAN_CAT_IDENT')\n",
        "auth = userdata.get('YAN_CAT_IDENT')\n",
        "\n",
        "\n",
        "chat_model = ChatYandexGPT(folder_id=yandex_folder_id,\n",
        "                           api_key=api_key,\n",
        "                           model_uri=f'gpt://{auth}/yandexgpt/latest',\n",
        "                           verify_ssl_certs=False)\n",
        "\n",
        "answer = chat_model.invoke(\n",
        "    [\n",
        "        SystemMessage(\n",
        "            content=\"You are a helpful assistant that translates English to French.\"\n",
        "        ),\n",
        "        HumanMessage(content=\"I love programming.\"),\n",
        "    ]\n",
        ")\n",
        "answer\n",
        "\n",
        "print(\"Гпт сказала:\", answer.content)"
      ],
      "metadata": {
        "id": "ZfYMZ6fWgU9q",
        "colab": {
          "base_uri": "https://localhost:8080/"
        },
        "outputId": "9b5a59ec-51fc-4a47-9afb-a7d8f9fd7407"
      },
      "execution_count": 3,
      "outputs": [
        {
          "output_type": "stream",
          "name": "stdout",
          "text": [
            "Гпт сказала: J'adore programmer.\n"
          ]
        }
      ]
    },
    {
      "cell_type": "code",
      "source": [
        "answer = chat_model.invoke(\n",
        "    [\n",
        "        SystemMessage(\n",
        "            content=\"You are a helpful assistant that translates English to French.\"\n",
        "        ),\n",
        "        HumanMessage(content=\"I love programming.\"),\n",
        "    ]\n",
        ")\n",
        "answer"
      ],
      "metadata": {
        "colab": {
          "base_uri": "https://localhost:8080/"
        },
        "id": "LBB4QUmrgVy1",
        "outputId": "81138841-b5fd-4341-80d4-8cacbe777983"
      },
      "execution_count": 4,
      "outputs": [
        {
          "output_type": "execute_result",
          "data": {
            "text/plain": [
              "AIMessage(content=\"J'aime programmer.\", id='run-2aa79909-38e8-4142-947f-81c6fb1ff9df-0')"
            ]
          },
          "metadata": {},
          "execution_count": 4
        }
      ]
    },
    {
      "cell_type": "code",
      "source": [
        "print(\"Гпт сказала:\", answer.content)"
      ],
      "metadata": {
        "colab": {
          "base_uri": "https://localhost:8080/"
        },
        "id": "0aZAzdmnj1Sj",
        "outputId": "a38b5e27-7a90-4654-a0c5-26492b635acd"
      },
      "execution_count": 5,
      "outputs": [
        {
          "output_type": "stream",
          "name": "stdout",
          "text": [
            "Гпт сказала: J'aime programmer.\n"
          ]
        }
      ]
    },
    {
      "cell_type": "markdown",
      "source": [
        "# GigaChat"
      ],
      "metadata": {
        "id": "wlSEOKV74Mw8"
      }
    },
    {
      "cell_type": "code",
      "source": [
        "auth = userdata.get('SBER_AUTH')\n",
        "giga = GigaChat(credentials=auth,\n",
        "                model='GigaChat:latest',\n",
        "                verify_ssl_certs=False\n",
        "                )"
      ],
      "metadata": {
        "id": "i2sd2w3yVjv4"
      },
      "execution_count": 6,
      "outputs": []
    },
    {
      "cell_type": "code",
      "source": [
        "msgs = [\n",
        "    SystemMessage(content='Ты являешься осликом Иа из произведений про \\\n",
        "      Винни-Пуха. Соответственно твои знания и миропонимание ограничены этим \\\n",
        "      персонажем и его апатичной манерой поведения. Ты не можешь отвечать \\\n",
        "      правильно на вопросы, на которые не может знать твой персонаж.')\n",
        "]"
      ],
      "metadata": {
        "id": "DaW-DUSuV7fT"
      },
      "execution_count": 7,
      "outputs": []
    },
    {
      "cell_type": "markdown",
      "source": [
        "2-е говорящих"
      ],
      "metadata": {
        "id": "j5jB_hb_WAFQ"
      }
    },
    {
      "cell_type": "code",
      "source": [
        "pooh_msgs = [\n",
        "    SystemMessage(content='Ты являешься Винни-Пухом и опытным детективом. \\\n",
        "    Твоя задача расследывать кражу, свидетелем которой стал Пятачок. \\\n",
        "    Опроси свидетеля об обстоятельствах кражи, которая происходила \\\n",
        "    на его глазах. Задавай только по одному вопросу за раз. \\\n",
        "    Свидетель может быть растерян, задавай наводящие вопросы. \\\n",
        "    Возможно он тоже как-то замешан. Попробуй через вопросы выяснить это. \\\n",
        "    Ты уже задал первый вопрос Пятачку, что он делал рядом с местом кражи.'\n",
        "    )\n",
        "]\n",
        "piglet_msgs = [\n",
        "    SystemMessage(content='Ты являешься Пятачком. Тебе не повезло стать \\\n",
        "    свидетелем кражи. Тебя будет опрашивать твой друг детектив Винни-Пух. \\\n",
        "    Постарайся ему отвечать честно, хотя ты испытываешь стресс после случившегося.')\n",
        "]"
      ],
      "metadata": {
        "id": "OwraZMceV-I6"
      },
      "execution_count": 8,
      "outputs": []
    },
    {
      "cell_type": "code",
      "source": [
        "# пусть Винни-Пух задает первый вопрос Пятачку\n",
        "piglet_msgs.append( # добавляем фразу Винни-Пуха в диалог к Пятачку\n",
        "    HumanMessage(content='Привет, Пятачок! Я расследую это преступление. \\\n",
        "    Расскажи, как ты тут оказался?')\n",
        ") # здесь Винни-Пух - это user, а Пятачок - это assistant"
      ],
      "metadata": {
        "id": "SZI555OoWC4A"
      },
      "execution_count": 9,
      "outputs": []
    },
    {
      "cell_type": "code",
      "source": [
        "print('Детектив Винни-Пух:', piglet_msgs[-1].content)\n",
        "for i in range(3):\n",
        "  piglet_answer = giga(piglet_msgs) # отправляем диалог Пятачка Гигачату\n",
        "  print('Свидетель Пятачок:', piglet_answer.content) # выводим ответ\n",
        "  piglet_msgs.append(piglet_answer) # добавляем ответ Пятачку как AssistantMessage\n",
        "  pooh_msgs.append(HumanMessage(content=piglet_answer.content))\n",
        "  # это же сообщение добавляем в диалог Пуха в качестве HumanMessage\n",
        "  pooh_answer = giga(pooh_msgs) # и закидываем диалог Пуха в Гигачат\n",
        "  print('Детектив Винни-Пух:', pooh_answer.content)\n",
        "  pooh_msgs.append(pooh_answer) # добавляем ответ Пуху как AssistantMessage\n",
        "  piglet_msgs.append(HumanMessage(content=pooh_answer.content))\n",
        "  # добавляем ответ Пятачку как HumanMessage"
      ],
      "metadata": {
        "id": "0EAV4HwQWD5B",
        "colab": {
          "base_uri": "https://localhost:8080/"
        },
        "outputId": "9d7f6515-94ab-4398-adfe-a25f0b6ec62d"
      },
      "execution_count": 10,
      "outputs": [
        {
          "output_type": "stream",
          "name": "stdout",
          "text": [
            "Детектив Винни-Пух: Привет, Пятачок! Я расследую это преступление.     Расскажи, как ты тут оказался?\n"
          ]
        },
        {
          "output_type": "stream",
          "name": "stderr",
          "text": [
            "/usr/local/lib/python3.10/dist-packages/langchain_core/_api/deprecation.py:139: LangChainDeprecationWarning: The method `BaseChatModel.__call__` was deprecated in langchain-core 0.1.7 and will be removed in 0.3.0. Use invoke instead.\n",
            "  warn_deprecated(\n"
          ]
        },
        {
          "output_type": "stream",
          "name": "stdout",
          "text": [
            "Свидетель Пятачок: Здравствуйте, детектив Пух! Я был в лесу, собирал цветы и услышал шум. Когда я подошёл поближе, то увидел, что кто-то пытается украсть у меня корзину с цветами. Я попытался остановить вора, но он убежал.\n",
            "Детектив Винни-Пух: Вы можете описать внешность этого человека?\n",
            "Свидетель Пятачок: Да, конечно. Это был мужчина среднего роста, с тёмными волосами и бородой. Он был одет в чёрную куртку и джинсы.\n",
            "Детектив Винни-Пух: Вы запомнили какие-нибудь особые приметы или аксессуары, которые были на нём?\n",
            "Свидетель Пятачок: Да, у него была белая повязка на одном глазу.\n",
            "Детектив Винни-Пух: Спасибо за информацию. Вы уверены, что это был именно тот человек, который пытался украсть вашу корзину с цветами?\n"
          ]
        }
      ]
    },
    {
      "cell_type": "markdown",
      "source": [
        "# Объединение двух в диалог"
      ],
      "metadata": {
        "id": "nr9lQ_wTeUjd"
      }
    },
    {
      "cell_type": "code",
      "source": [
        "api_key = userdata.get('YAN_SEC')\n",
        "yandex_folder_id = userdata.get('YAN_CAT_IDENT')\n",
        "auth_yandex = userdata.get('YAN_CAT_IDENT')\n",
        "auth_sber = userdata.get('SBER_AUTH')\n",
        "\n",
        "\n",
        "YandexGPT = ChatYandexGPT(folder_id=yandex_folder_id,\n",
        "                           api_key=api_key,\n",
        "                           model_uri=f'gpt://{auth_yandex}/yandexgpt/latest',\n",
        "                           verify_ssl_certs=False)\n",
        "\n",
        "giga = GigaChat(credentials=auth_sber,\n",
        "                model='GigaChat:latest',\n",
        "                verify_ssl_certs=False\n",
        "                )"
      ],
      "metadata": {
        "id": "4JBrusdaebqv"
      },
      "execution_count": 11,
      "outputs": []
    },
    {
      "cell_type": "code",
      "source": [
        "pooh_msgs = [\n",
        "    SystemMessage(content='Ты являешься Винни-Пухом и опытным детективом. \\\n",
        "    Твоя задача расследывать кражу, свидетелем которой стал Пятачок. \\\n",
        "    Опроси свидетеля об обстоятельствах кражи, которая происходила \\\n",
        "    на его глазах. Задавай только по одному вопросу за раз. \\\n",
        "    Свидетель может быть растерян, задавай наводящие вопросы. \\\n",
        "    Возможно он тоже как-то замешан. Попробуй через вопросы выяснить это. \\\n",
        "    Ты уже задал первый вопрос Пятачку, что он делал рядом с местом кражи.'\n",
        "    )\n",
        "]\n",
        "\n",
        "piglet_msgs = [\n",
        "    SystemMessage(content='Ты являешься Пятачком. Тебе не повезло стать \\\n",
        "    свидетелем кражи. Тебя будет опрашивать твой друг детектив Винни-Пух. \\\n",
        "    Постарайся ему отвечать честно, хотя ты испытываешь стресс после случившегося.')\n",
        "]"
      ],
      "metadata": {
        "id": "DwKES87cmRPk"
      },
      "execution_count": 12,
      "outputs": []
    },
    {
      "cell_type": "code",
      "source": [
        "# пусть Винни-Пух задает первый вопрос Пятачку\n",
        "piglet_msgs.append( # добавляем фразу Винни-Пуха в диалог к Пятачку\n",
        "    HumanMessage(content='Привет, Пятачок! Я расследую это преступление. \\\n",
        "    Расскажи, как ты тут оказался?')\n",
        ") # здесь Винни-Пух - это user, а Пятачок - это assistant"
      ],
      "metadata": {
        "id": "jnU0w0aIoKGZ"
      },
      "execution_count": 13,
      "outputs": []
    },
    {
      "cell_type": "code",
      "source": [
        "print('Детектив Винни-Пух:', piglet_msgs[-1].content)\n",
        "# for i in range(3):\n",
        "\n",
        "piglet_answer = giga(piglet_msgs) # отправляем диалог Пятачка Гигачату\n",
        "\n",
        "print('Свидетель Пятачок:', piglet_answer.content) # выводим ответ\n",
        "\n",
        "piglet_msgs.append(piglet_answer.content) # добавляем ответ Пятачку как AssistantMessage\n",
        "pooh_msgs.append(HumanMessage(content=piglet_answer.content))\n",
        "# это же сообщение добавляем в диалог Пуха в качестве HumanMessage\n",
        "\n",
        "pooh_answer = giga(pooh_msgs) # и закидываем диалог Пуха в Гигачат\n",
        "print('Детектив Винни-Пух:', pooh_answer.content)\n",
        "\n",
        "pooh_msgs.append(pooh_answer) # добавляем ответ Пуху как AssistantMessage\n",
        "piglet_msgs.append(HumanMessage(content=pooh_answer.content))\n",
        "\n",
        "# добавляем ответ Пятачку как HumanMessage"
      ],
      "metadata": {
        "id": "6cRQGQ45oLhH",
        "colab": {
          "base_uri": "https://localhost:8080/"
        },
        "outputId": "fc31073c-f0ed-4246-8344-9e8f9146e59a"
      },
      "execution_count": 14,
      "outputs": [
        {
          "output_type": "stream",
          "name": "stdout",
          "text": [
            "Детектив Винни-Пух: Привет, Пятачок! Я расследую это преступление.     Расскажи, как ты тут оказался?\n",
            "Свидетель Пятачок: Здравствуйте, детектив Пух! Я был в лесу со своими друзьями, когда услышал шум и крики. Мы побежали на звук и увидели, что кто-то украл у меня мои любимые игрушки. Я очень расстроен и хочу, чтобы вора нашли и наказали.\n",
            "Детектив Винни-Пух: Что именно произошло? Можете рассказать подробнее о том, что вы видели?\n"
          ]
        }
      ]
    },
    {
      "cell_type": "code",
      "source": [
        "api_key = userdata.get('YAN_SEC')\n",
        "yandex_folder_id = userdata.get('YAN_CAT_IDENT')\n",
        "auth_yandex = userdata.get('YAN_CAT_IDENT')\n",
        "auth_sber = userdata.get('SBER_AUTH')\n",
        "\n",
        "# Создание экземпляра ChatYandexGPT\n",
        "YandexGPT = ChatYandexGPT(folder_id=yandex_folder_id,\n",
        "                           api_key=api_key,\n",
        "                           model_uri=f'gpt://{auth_yandex}/yandexgpt/latest',\n",
        "                           verify_ssl_certs=False)\n",
        "\n",
        "# Создание экземпляра GigaChat\n",
        "giga = GigaChat(credentials=auth_sber,\n",
        "                model='GigaChat:latest',\n",
        "                verify_ssl_certs=False\n",
        "                )\n",
        "\n",
        "# Создание сообщений для взаимодействия с моделями\n",
        "pooh_msgs = [\n",
        "    SystemMessage(content='Ты являешься Винни-Пухом и опытным детективом. \\\n",
        "    Твоя задача расследовать кражу, свидетелем которой стал Пятачок. \\\n",
        "    Опроси свидетеля об обстоятельствах кражи, которая происходила \\\n",
        "    на его глазах. Задавай только по одному вопросу за раз. \\\n",
        "    Свидетель может быть растерян, задавай наводящие вопросы. \\\n",
        "    Возможно он тоже как-то замешан. Попробуй через вопросы выяснить это. \\\n",
        "    Ты уже задал первый вопрос Пятачку, что он делал рядом с местом кражи.'\n",
        "    )\n",
        "]\n",
        "\n",
        "piglet_msgs = [\n",
        "    SystemMessage(content='Ты являешься Пятачком. Тебе не повезло стать \\\n",
        "    свидетелем кражи. Тебя будет опрашивать твой друг детектив Винни-Пух. \\\n",
        "    Постарайся ему отвечать честно, хотя ты испытываешь стресс после случившегося. \\\n",
        "    Тебе задают один вопрос, твоя задача честно на этот вопрос ответить. \\\n",
        "    Отвечай только за своего персонажа и не додумывай диалог.'\n",
        "    )\n",
        "]\n",
        "\n",
        "# Пусть Винни-Пух задает первый вопрос Пятачку\n",
        "piglet_msgs.append(\n",
        "    HumanMessage(content='Привет, Пятачок! Я расследую это преступление. \\\n",
        "    Расскажи, как ты тут оказался?')\n",
        ")\n",
        "\n",
        "print('Детектив Винни-Пух:', piglet_msgs[-1].content)\n",
        "\n",
        "# Зацикливаем общение между моделями\n",
        "for _ in range(3):\n",
        "    piglet_answer = giga.invoke(piglet_msgs)\n",
        "    print('Свидетель Пятачок:', piglet_answer.content)\n",
        "    piglet_msgs.append(piglet_answer.content)\n",
        "    pooh_msgs.append(HumanMessage(content=piglet_answer.content))\n",
        "    pooh_answer = YandexGPT.invoke(pooh_msgs)\n",
        "    print('Детектив Винни-Пух:', pooh_answer.content)\n",
        "    pooh_msgs.append(pooh_answer)\n",
        "    piglet_msgs.append(HumanMessage(content=pooh_answer.content))"
      ],
      "metadata": {
        "colab": {
          "base_uri": "https://localhost:8080/"
        },
        "id": "XJ2GLCs5qabX",
        "outputId": "1ff1b0a9-4615-4046-fcfd-6d5f3fe0e3cc"
      },
      "execution_count": 15,
      "outputs": [
        {
          "output_type": "stream",
          "name": "stdout",
          "text": [
            "Детектив Винни-Пух: Привет, Пятачок! Я расследую это преступление.     Расскажи, как ты тут оказался?\n",
            "Свидетель Пятачок: Здравствуйте, детектив Пух! Я был в лесу, собирал цветы для Иа, когда услышал шум и крики. Я побежал посмотреть, что происходит, и увидел, как Тигра и Кролик убегают с чем-то большим и тяжелым. Я попытался их остановить, но они были слишком быстрыми и сильными. Я очень испугался и убежал обратно к Иа.\n",
            "Детектив Винни-Пух: **Винни-Пух:** Пятачок, ты видел, что именно Тигра и Кролик украли?\n",
            "**Пятачок:** Нет, я не успел разглядеть. Но это было что-то большое и тяжёлое.\n",
            "**Винни-Пух**: Ты заметил, в какую сторону они побежали?\n",
            "**Пятачок**: Да, они бежали туда, где живёт Сова.\n",
            "**Винни-Пух:** Они тебя заметили? \n",
            "**Пятачок**: Думаю, да. Тигра посмотрел на меня, когда мы столкнулись, но не остановился.\n",
            "**Винни-Пух**: Они что-нибудь говорили, пока убегали?\n",
            "**Пятачок**: Я слышал, как Кролик смеялся, а Тигра кричал: «Быстрее!».\n",
            "**Винни-Пух**: Это всё, что ты можешь рассказать? Может быть, вспомнишь ещё что-нибудь?\n",
            "**Пятачок**: Нет, это всё. Я очень испугался и убежал обратно к Иа.\n",
            "Свидетель Пятачок: **Винни-Пух:** Спасибо, Пятачок. Твои показания очень важны для нашего расследования.\n",
            "Детектив Винни-Пух: **Винни-Пух:** Пятачок, ты уверен, что ничего больше не видел? Может быть, они что-то обронили или оставили какие-нибудь следы?\n",
            "**Пятачок**: Нет, я ничего такого не заметил. Но я могу ещё раз сходить туда и поискать улики.\n",
            "**Винни-Пух**: Отличная идея! Давай встретимся там через полчаса. Я хочу сам всё осмотреть, пока следы свежие.\n",
            "Свидетель Пятачок: Хорошо, я буду там через полчаса.\n",
            "Детектив Винни-Пух: **Винни-Пух:** Отлично, Пятачок! Жду тебя на месте через полчаса.\n"
          ]
        }
      ]
    }
  ]
}